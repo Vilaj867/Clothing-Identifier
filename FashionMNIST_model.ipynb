{
  "nbformat": 4,
  "nbformat_minor": 0,
  "metadata": {
    "colab": {
      "provenance": [],
      "gpuType": "T4"
    },
    "kernelspec": {
      "name": "python3",
      "display_name": "Python 3"
    },
    "language_info": {
      "name": "python"
    },
    "accelerator": "GPU",
    "widgets": {
      "application/vnd.jupyter.widget-state+json": {
        "09b66661449c4ff79e8c6a0d5a5397ce": {
          "model_module": "@jupyter-widgets/controls",
          "model_name": "HBoxModel",
          "model_module_version": "1.5.0",
          "state": {
            "_dom_classes": [],
            "_model_module": "@jupyter-widgets/controls",
            "_model_module_version": "1.5.0",
            "_model_name": "HBoxModel",
            "_view_count": null,
            "_view_module": "@jupyter-widgets/controls",
            "_view_module_version": "1.5.0",
            "_view_name": "HBoxView",
            "box_style": "",
            "children": [
              "IPY_MODEL_2d5aa31a8be44c0f80a69d5e4c30f63d",
              "IPY_MODEL_14b5a2322d74483d9a8e84495579b091",
              "IPY_MODEL_aca2e11ca8014cc39145d53c3a5b9d86"
            ],
            "layout": "IPY_MODEL_50bd15ce435645f996fefdfddd015098"
          }
        },
        "2d5aa31a8be44c0f80a69d5e4c30f63d": {
          "model_module": "@jupyter-widgets/controls",
          "model_name": "HTMLModel",
          "model_module_version": "1.5.0",
          "state": {
            "_dom_classes": [],
            "_model_module": "@jupyter-widgets/controls",
            "_model_module_version": "1.5.0",
            "_model_name": "HTMLModel",
            "_view_count": null,
            "_view_module": "@jupyter-widgets/controls",
            "_view_module_version": "1.5.0",
            "_view_name": "HTMLView",
            "description": "",
            "description_tooltip": null,
            "layout": "IPY_MODEL_46a2c5504c224c0aaaccac4062f7f641",
            "placeholder": "​",
            "style": "IPY_MODEL_0c6faab03d3d44939ab40ef5e8f90fc7",
            "value": "100%"
          }
        },
        "14b5a2322d74483d9a8e84495579b091": {
          "model_module": "@jupyter-widgets/controls",
          "model_name": "FloatProgressModel",
          "model_module_version": "1.5.0",
          "state": {
            "_dom_classes": [],
            "_model_module": "@jupyter-widgets/controls",
            "_model_module_version": "1.5.0",
            "_model_name": "FloatProgressModel",
            "_view_count": null,
            "_view_module": "@jupyter-widgets/controls",
            "_view_module_version": "1.5.0",
            "_view_name": "ProgressView",
            "bar_style": "success",
            "description": "",
            "description_tooltip": null,
            "layout": "IPY_MODEL_9a0227e0718a4d5eae11250698b89d75",
            "max": 5,
            "min": 0,
            "orientation": "horizontal",
            "style": "IPY_MODEL_f55c78c7c1c84242923993a0455629ee",
            "value": 5
          }
        },
        "aca2e11ca8014cc39145d53c3a5b9d86": {
          "model_module": "@jupyter-widgets/controls",
          "model_name": "HTMLModel",
          "model_module_version": "1.5.0",
          "state": {
            "_dom_classes": [],
            "_model_module": "@jupyter-widgets/controls",
            "_model_module_version": "1.5.0",
            "_model_name": "HTMLModel",
            "_view_count": null,
            "_view_module": "@jupyter-widgets/controls",
            "_view_module_version": "1.5.0",
            "_view_name": "HTMLView",
            "description": "",
            "description_tooltip": null,
            "layout": "IPY_MODEL_2d84ccf49cb34a55b0a6bce79db1b047",
            "placeholder": "​",
            "style": "IPY_MODEL_eb9e1ca5c5c14cf3b0e4adcce4adaa2f",
            "value": " 5/5 [04:43&lt;00:00, 55.27s/it]"
          }
        },
        "50bd15ce435645f996fefdfddd015098": {
          "model_module": "@jupyter-widgets/base",
          "model_name": "LayoutModel",
          "model_module_version": "1.2.0",
          "state": {
            "_model_module": "@jupyter-widgets/base",
            "_model_module_version": "1.2.0",
            "_model_name": "LayoutModel",
            "_view_count": null,
            "_view_module": "@jupyter-widgets/base",
            "_view_module_version": "1.2.0",
            "_view_name": "LayoutView",
            "align_content": null,
            "align_items": null,
            "align_self": null,
            "border": null,
            "bottom": null,
            "display": null,
            "flex": null,
            "flex_flow": null,
            "grid_area": null,
            "grid_auto_columns": null,
            "grid_auto_flow": null,
            "grid_auto_rows": null,
            "grid_column": null,
            "grid_gap": null,
            "grid_row": null,
            "grid_template_areas": null,
            "grid_template_columns": null,
            "grid_template_rows": null,
            "height": null,
            "justify_content": null,
            "justify_items": null,
            "left": null,
            "margin": null,
            "max_height": null,
            "max_width": null,
            "min_height": null,
            "min_width": null,
            "object_fit": null,
            "object_position": null,
            "order": null,
            "overflow": null,
            "overflow_x": null,
            "overflow_y": null,
            "padding": null,
            "right": null,
            "top": null,
            "visibility": null,
            "width": null
          }
        },
        "46a2c5504c224c0aaaccac4062f7f641": {
          "model_module": "@jupyter-widgets/base",
          "model_name": "LayoutModel",
          "model_module_version": "1.2.0",
          "state": {
            "_model_module": "@jupyter-widgets/base",
            "_model_module_version": "1.2.0",
            "_model_name": "LayoutModel",
            "_view_count": null,
            "_view_module": "@jupyter-widgets/base",
            "_view_module_version": "1.2.0",
            "_view_name": "LayoutView",
            "align_content": null,
            "align_items": null,
            "align_self": null,
            "border": null,
            "bottom": null,
            "display": null,
            "flex": null,
            "flex_flow": null,
            "grid_area": null,
            "grid_auto_columns": null,
            "grid_auto_flow": null,
            "grid_auto_rows": null,
            "grid_column": null,
            "grid_gap": null,
            "grid_row": null,
            "grid_template_areas": null,
            "grid_template_columns": null,
            "grid_template_rows": null,
            "height": null,
            "justify_content": null,
            "justify_items": null,
            "left": null,
            "margin": null,
            "max_height": null,
            "max_width": null,
            "min_height": null,
            "min_width": null,
            "object_fit": null,
            "object_position": null,
            "order": null,
            "overflow": null,
            "overflow_x": null,
            "overflow_y": null,
            "padding": null,
            "right": null,
            "top": null,
            "visibility": null,
            "width": null
          }
        },
        "0c6faab03d3d44939ab40ef5e8f90fc7": {
          "model_module": "@jupyter-widgets/controls",
          "model_name": "DescriptionStyleModel",
          "model_module_version": "1.5.0",
          "state": {
            "_model_module": "@jupyter-widgets/controls",
            "_model_module_version": "1.5.0",
            "_model_name": "DescriptionStyleModel",
            "_view_count": null,
            "_view_module": "@jupyter-widgets/base",
            "_view_module_version": "1.2.0",
            "_view_name": "StyleView",
            "description_width": ""
          }
        },
        "9a0227e0718a4d5eae11250698b89d75": {
          "model_module": "@jupyter-widgets/base",
          "model_name": "LayoutModel",
          "model_module_version": "1.2.0",
          "state": {
            "_model_module": "@jupyter-widgets/base",
            "_model_module_version": "1.2.0",
            "_model_name": "LayoutModel",
            "_view_count": null,
            "_view_module": "@jupyter-widgets/base",
            "_view_module_version": "1.2.0",
            "_view_name": "LayoutView",
            "align_content": null,
            "align_items": null,
            "align_self": null,
            "border": null,
            "bottom": null,
            "display": null,
            "flex": null,
            "flex_flow": null,
            "grid_area": null,
            "grid_auto_columns": null,
            "grid_auto_flow": null,
            "grid_auto_rows": null,
            "grid_column": null,
            "grid_gap": null,
            "grid_row": null,
            "grid_template_areas": null,
            "grid_template_columns": null,
            "grid_template_rows": null,
            "height": null,
            "justify_content": null,
            "justify_items": null,
            "left": null,
            "margin": null,
            "max_height": null,
            "max_width": null,
            "min_height": null,
            "min_width": null,
            "object_fit": null,
            "object_position": null,
            "order": null,
            "overflow": null,
            "overflow_x": null,
            "overflow_y": null,
            "padding": null,
            "right": null,
            "top": null,
            "visibility": null,
            "width": null
          }
        },
        "f55c78c7c1c84242923993a0455629ee": {
          "model_module": "@jupyter-widgets/controls",
          "model_name": "ProgressStyleModel",
          "model_module_version": "1.5.0",
          "state": {
            "_model_module": "@jupyter-widgets/controls",
            "_model_module_version": "1.5.0",
            "_model_name": "ProgressStyleModel",
            "_view_count": null,
            "_view_module": "@jupyter-widgets/base",
            "_view_module_version": "1.2.0",
            "_view_name": "StyleView",
            "bar_color": null,
            "description_width": ""
          }
        },
        "2d84ccf49cb34a55b0a6bce79db1b047": {
          "model_module": "@jupyter-widgets/base",
          "model_name": "LayoutModel",
          "model_module_version": "1.2.0",
          "state": {
            "_model_module": "@jupyter-widgets/base",
            "_model_module_version": "1.2.0",
            "_model_name": "LayoutModel",
            "_view_count": null,
            "_view_module": "@jupyter-widgets/base",
            "_view_module_version": "1.2.0",
            "_view_name": "LayoutView",
            "align_content": null,
            "align_items": null,
            "align_self": null,
            "border": null,
            "bottom": null,
            "display": null,
            "flex": null,
            "flex_flow": null,
            "grid_area": null,
            "grid_auto_columns": null,
            "grid_auto_flow": null,
            "grid_auto_rows": null,
            "grid_column": null,
            "grid_gap": null,
            "grid_row": null,
            "grid_template_areas": null,
            "grid_template_columns": null,
            "grid_template_rows": null,
            "height": null,
            "justify_content": null,
            "justify_items": null,
            "left": null,
            "margin": null,
            "max_height": null,
            "max_width": null,
            "min_height": null,
            "min_width": null,
            "object_fit": null,
            "object_position": null,
            "order": null,
            "overflow": null,
            "overflow_x": null,
            "overflow_y": null,
            "padding": null,
            "right": null,
            "top": null,
            "visibility": null,
            "width": null
          }
        },
        "eb9e1ca5c5c14cf3b0e4adcce4adaa2f": {
          "model_module": "@jupyter-widgets/controls",
          "model_name": "DescriptionStyleModel",
          "model_module_version": "1.5.0",
          "state": {
            "_model_module": "@jupyter-widgets/controls",
            "_model_module_version": "1.5.0",
            "_model_name": "DescriptionStyleModel",
            "_view_count": null,
            "_view_module": "@jupyter-widgets/base",
            "_view_module_version": "1.2.0",
            "_view_name": "StyleView",
            "description_width": ""
          }
        },
        "7f4647a4702e41ad8bf695584e551e97": {
          "model_module": "@jupyter-widgets/controls",
          "model_name": "HBoxModel",
          "model_module_version": "1.5.0",
          "state": {
            "_dom_classes": [],
            "_model_module": "@jupyter-widgets/controls",
            "_model_module_version": "1.5.0",
            "_model_name": "HBoxModel",
            "_view_count": null,
            "_view_module": "@jupyter-widgets/controls",
            "_view_module_version": "1.5.0",
            "_view_name": "HBoxView",
            "box_style": "",
            "children": [
              "IPY_MODEL_9fdba2dc5733420faf5208eab30e15df",
              "IPY_MODEL_ad45685d57e1445f807ec35c270f1a84",
              "IPY_MODEL_3ffdee8395dd4e129505970a5c690de0"
            ],
            "layout": "IPY_MODEL_e5943e550a884d13a3c780d65a110ace"
          }
        },
        "9fdba2dc5733420faf5208eab30e15df": {
          "model_module": "@jupyter-widgets/controls",
          "model_name": "HTMLModel",
          "model_module_version": "1.5.0",
          "state": {
            "_dom_classes": [],
            "_model_module": "@jupyter-widgets/controls",
            "_model_module_version": "1.5.0",
            "_model_name": "HTMLModel",
            "_view_count": null,
            "_view_module": "@jupyter-widgets/controls",
            "_view_module_version": "1.5.0",
            "_view_name": "HTMLView",
            "description": "",
            "description_tooltip": null,
            "layout": "IPY_MODEL_b709b114bbb84de0973f2245177303ec",
            "placeholder": "​",
            "style": "IPY_MODEL_e2bea580530442edbacba7fad5d1ceb8",
            "value": "100%"
          }
        },
        "ad45685d57e1445f807ec35c270f1a84": {
          "model_module": "@jupyter-widgets/controls",
          "model_name": "FloatProgressModel",
          "model_module_version": "1.5.0",
          "state": {
            "_dom_classes": [],
            "_model_module": "@jupyter-widgets/controls",
            "_model_module_version": "1.5.0",
            "_model_name": "FloatProgressModel",
            "_view_count": null,
            "_view_module": "@jupyter-widgets/controls",
            "_view_module_version": "1.5.0",
            "_view_name": "ProgressView",
            "bar_style": "success",
            "description": "",
            "description_tooltip": null,
            "layout": "IPY_MODEL_bc4904612ddb494dabcb073c057522a3",
            "max": 313,
            "min": 0,
            "orientation": "horizontal",
            "style": "IPY_MODEL_f5e7dde77aef450daff5e58319be0fdb",
            "value": 313
          }
        },
        "3ffdee8395dd4e129505970a5c690de0": {
          "model_module": "@jupyter-widgets/controls",
          "model_name": "HTMLModel",
          "model_module_version": "1.5.0",
          "state": {
            "_dom_classes": [],
            "_model_module": "@jupyter-widgets/controls",
            "_model_module_version": "1.5.0",
            "_model_name": "HTMLModel",
            "_view_count": null,
            "_view_module": "@jupyter-widgets/controls",
            "_view_module_version": "1.5.0",
            "_view_name": "HTMLView",
            "description": "",
            "description_tooltip": null,
            "layout": "IPY_MODEL_fd9d94ffe2aa44679bf1d0a9e460ff74",
            "placeholder": "​",
            "style": "IPY_MODEL_228ee2425c62410c9949d21c19451812",
            "value": " 313/313 [00:11&lt;00:00, 42.58it/s]"
          }
        },
        "e5943e550a884d13a3c780d65a110ace": {
          "model_module": "@jupyter-widgets/base",
          "model_name": "LayoutModel",
          "model_module_version": "1.2.0",
          "state": {
            "_model_module": "@jupyter-widgets/base",
            "_model_module_version": "1.2.0",
            "_model_name": "LayoutModel",
            "_view_count": null,
            "_view_module": "@jupyter-widgets/base",
            "_view_module_version": "1.2.0",
            "_view_name": "LayoutView",
            "align_content": null,
            "align_items": null,
            "align_self": null,
            "border": null,
            "bottom": null,
            "display": null,
            "flex": null,
            "flex_flow": null,
            "grid_area": null,
            "grid_auto_columns": null,
            "grid_auto_flow": null,
            "grid_auto_rows": null,
            "grid_column": null,
            "grid_gap": null,
            "grid_row": null,
            "grid_template_areas": null,
            "grid_template_columns": null,
            "grid_template_rows": null,
            "height": null,
            "justify_content": null,
            "justify_items": null,
            "left": null,
            "margin": null,
            "max_height": null,
            "max_width": null,
            "min_height": null,
            "min_width": null,
            "object_fit": null,
            "object_position": null,
            "order": null,
            "overflow": null,
            "overflow_x": null,
            "overflow_y": null,
            "padding": null,
            "right": null,
            "top": null,
            "visibility": null,
            "width": null
          }
        },
        "b709b114bbb84de0973f2245177303ec": {
          "model_module": "@jupyter-widgets/base",
          "model_name": "LayoutModel",
          "model_module_version": "1.2.0",
          "state": {
            "_model_module": "@jupyter-widgets/base",
            "_model_module_version": "1.2.0",
            "_model_name": "LayoutModel",
            "_view_count": null,
            "_view_module": "@jupyter-widgets/base",
            "_view_module_version": "1.2.0",
            "_view_name": "LayoutView",
            "align_content": null,
            "align_items": null,
            "align_self": null,
            "border": null,
            "bottom": null,
            "display": null,
            "flex": null,
            "flex_flow": null,
            "grid_area": null,
            "grid_auto_columns": null,
            "grid_auto_flow": null,
            "grid_auto_rows": null,
            "grid_column": null,
            "grid_gap": null,
            "grid_row": null,
            "grid_template_areas": null,
            "grid_template_columns": null,
            "grid_template_rows": null,
            "height": null,
            "justify_content": null,
            "justify_items": null,
            "left": null,
            "margin": null,
            "max_height": null,
            "max_width": null,
            "min_height": null,
            "min_width": null,
            "object_fit": null,
            "object_position": null,
            "order": null,
            "overflow": null,
            "overflow_x": null,
            "overflow_y": null,
            "padding": null,
            "right": null,
            "top": null,
            "visibility": null,
            "width": null
          }
        },
        "e2bea580530442edbacba7fad5d1ceb8": {
          "model_module": "@jupyter-widgets/controls",
          "model_name": "DescriptionStyleModel",
          "model_module_version": "1.5.0",
          "state": {
            "_model_module": "@jupyter-widgets/controls",
            "_model_module_version": "1.5.0",
            "_model_name": "DescriptionStyleModel",
            "_view_count": null,
            "_view_module": "@jupyter-widgets/base",
            "_view_module_version": "1.2.0",
            "_view_name": "StyleView",
            "description_width": ""
          }
        },
        "bc4904612ddb494dabcb073c057522a3": {
          "model_module": "@jupyter-widgets/base",
          "model_name": "LayoutModel",
          "model_module_version": "1.2.0",
          "state": {
            "_model_module": "@jupyter-widgets/base",
            "_model_module_version": "1.2.0",
            "_model_name": "LayoutModel",
            "_view_count": null,
            "_view_module": "@jupyter-widgets/base",
            "_view_module_version": "1.2.0",
            "_view_name": "LayoutView",
            "align_content": null,
            "align_items": null,
            "align_self": null,
            "border": null,
            "bottom": null,
            "display": null,
            "flex": null,
            "flex_flow": null,
            "grid_area": null,
            "grid_auto_columns": null,
            "grid_auto_flow": null,
            "grid_auto_rows": null,
            "grid_column": null,
            "grid_gap": null,
            "grid_row": null,
            "grid_template_areas": null,
            "grid_template_columns": null,
            "grid_template_rows": null,
            "height": null,
            "justify_content": null,
            "justify_items": null,
            "left": null,
            "margin": null,
            "max_height": null,
            "max_width": null,
            "min_height": null,
            "min_width": null,
            "object_fit": null,
            "object_position": null,
            "order": null,
            "overflow": null,
            "overflow_x": null,
            "overflow_y": null,
            "padding": null,
            "right": null,
            "top": null,
            "visibility": null,
            "width": null
          }
        },
        "f5e7dde77aef450daff5e58319be0fdb": {
          "model_module": "@jupyter-widgets/controls",
          "model_name": "ProgressStyleModel",
          "model_module_version": "1.5.0",
          "state": {
            "_model_module": "@jupyter-widgets/controls",
            "_model_module_version": "1.5.0",
            "_model_name": "ProgressStyleModel",
            "_view_count": null,
            "_view_module": "@jupyter-widgets/base",
            "_view_module_version": "1.2.0",
            "_view_name": "StyleView",
            "bar_color": null,
            "description_width": ""
          }
        },
        "fd9d94ffe2aa44679bf1d0a9e460ff74": {
          "model_module": "@jupyter-widgets/base",
          "model_name": "LayoutModel",
          "model_module_version": "1.2.0",
          "state": {
            "_model_module": "@jupyter-widgets/base",
            "_model_module_version": "1.2.0",
            "_model_name": "LayoutModel",
            "_view_count": null,
            "_view_module": "@jupyter-widgets/base",
            "_view_module_version": "1.2.0",
            "_view_name": "LayoutView",
            "align_content": null,
            "align_items": null,
            "align_self": null,
            "border": null,
            "bottom": null,
            "display": null,
            "flex": null,
            "flex_flow": null,
            "grid_area": null,
            "grid_auto_columns": null,
            "grid_auto_flow": null,
            "grid_auto_rows": null,
            "grid_column": null,
            "grid_gap": null,
            "grid_row": null,
            "grid_template_areas": null,
            "grid_template_columns": null,
            "grid_template_rows": null,
            "height": null,
            "justify_content": null,
            "justify_items": null,
            "left": null,
            "margin": null,
            "max_height": null,
            "max_width": null,
            "min_height": null,
            "min_width": null,
            "object_fit": null,
            "object_position": null,
            "order": null,
            "overflow": null,
            "overflow_x": null,
            "overflow_y": null,
            "padding": null,
            "right": null,
            "top": null,
            "visibility": null,
            "width": null
          }
        },
        "228ee2425c62410c9949d21c19451812": {
          "model_module": "@jupyter-widgets/controls",
          "model_name": "DescriptionStyleModel",
          "model_module_version": "1.5.0",
          "state": {
            "_model_module": "@jupyter-widgets/controls",
            "_model_module_version": "1.5.0",
            "_model_name": "DescriptionStyleModel",
            "_view_count": null,
            "_view_module": "@jupyter-widgets/base",
            "_view_module_version": "1.2.0",
            "_view_name": "StyleView",
            "description_width": ""
          }
        }
      }
    }
  },
  "cells": [
    {
      "cell_type": "code",
      "execution_count": 139,
      "metadata": {
        "colab": {
          "base_uri": "https://localhost:8080/"
        },
        "id": "YPlKtzU1imXU",
        "outputId": "351610eb-1826-464b-bc1a-d59f5ca7e0a6"
      },
      "outputs": [
        {
          "output_type": "stream",
          "name": "stdout",
          "text": [
            "mlxtend version: 0.23.3\n",
            "2.5.1+cu121\n",
            "0.20.1+cu121\n"
          ]
        }
      ],
      "source": [
        "import torch\n",
        "from torch import nn # contains nn framework\n",
        "\n",
        "from torch.utils.data import DataLoader # Split data into batches\n",
        "\n",
        "import torchvision\n",
        "from torchvision import datasets # import fashionMNIST data for use\n",
        "from torchvision import transforms # to manipulate data for use in model\n",
        "from torchvision.transforms import ToTensor # to have data in tensor format\n",
        "\n",
        "import matplotlib.pyplot as plt # Plot data\n",
        "\n",
        "import requests # to save and load model to designated path\n",
        "from pathlib import Path\n",
        "\n",
        "from timeit import default_timer as timer # To time training and evaluation of model\n",
        "\n",
        "from tqdm.auto import tqdm # progress bar\n",
        "\n",
        "import random\n",
        "\n",
        "try:\n",
        "  import torchmetrics, mlxtend\n",
        "  assert int(mlxtend.__version__.split(\".\")[1] >= 19, \"mlxtend version should be 0.19.0 or higher\")\n",
        "except:\n",
        "  !pip install -q torchmetrics -U mlxtend\n",
        "  import torchmetrics, mlxtend\n",
        "  print(f\"mlxtend version: {mlxtend.__version__}\")\n",
        "\n",
        "from torchmetrics import ConfusionMatrix # To use a confusion matrix to evaluate model\n",
        "from mlxtend.plotting import plot_confusion_matrix\n",
        "\n",
        "print(torch.__version__)\n",
        "print(torchvision.__version__)"
      ]
    },
    {
      "cell_type": "code",
      "source": [
        "# Device agnostic code\n",
        "device  = \"cuda\" if torch.cuda.is_available() else \"cpu\"\n",
        "device"
      ],
      "metadata": {
        "colab": {
          "base_uri": "https://localhost:8080/",
          "height": 35
        },
        "id": "47x6MY7sktW8",
        "outputId": "237f1322-833a-4455-993b-d4577f874463"
      },
      "execution_count": 140,
      "outputs": [
        {
          "output_type": "execute_result",
          "data": {
            "text/plain": [
              "'cpu'"
            ],
            "application/vnd.google.colaboratory.intrinsic+json": {
              "type": "string"
            }
          },
          "metadata": {},
          "execution_count": 140
        }
      ]
    },
    {
      "cell_type": "markdown",
      "source": [
        "##Splitting data into training and testing sets"
      ],
      "metadata": {
        "id": "LO-8YgAPPN3h"
      }
    },
    {
      "cell_type": "code",
      "source": [
        "# Set up training data\n",
        "train_data = datasets.FashionMNIST(\n",
        "    root=\"data\",\n",
        "    train=True,\n",
        "    download=True,\n",
        "    transform=ToTensor(),\n",
        "    target_transform=None\n",
        ")\n",
        "\n",
        "# Set up testing data\n",
        "test_data = datasets.FashionMNIST(\n",
        "    root=\"data\",\n",
        "    train=False,\n",
        "    download=True,\n",
        "    transform=ToTensor(),\n",
        "    target_transform=None\n",
        ")\n",
        "\n",
        "# print length of each dataset\n",
        "len(train_data), len(test_data)"
      ],
      "metadata": {
        "colab": {
          "base_uri": "https://localhost:8080/"
        },
        "id": "gOUO1avmk9dR",
        "outputId": "5c880759-2bb1-457b-eb46-bef8676b5721"
      },
      "execution_count": 141,
      "outputs": [
        {
          "output_type": "execute_result",
          "data": {
            "text/plain": [
              "(60000, 10000)"
            ]
          },
          "metadata": {},
          "execution_count": 141
        }
      ]
    },
    {
      "cell_type": "code",
      "source": [
        "# list of class names in FashionMNIST\n",
        "class_names = train_data.classes\n",
        "\n",
        "# Visualize samples of data to ensure proper installation\n",
        "fig = plt.figure(figsize=(9,9))\n",
        "rows, cols = 3, 3\n",
        "for i in range(1, rows*cols+1):\n",
        "  random_idx = torch.randint(0, len(train_data), size=[1]).item()\n",
        "  img, label = train_data[random_idx]\n",
        "  fig.add_subplot(rows, cols,i)\n",
        "  plt.imshow(img.squeeze(), cmap=\"gray\")\n",
        "  plt.title(class_names[label])\n",
        "  plt.axis(False)"
      ],
      "metadata": {
        "colab": {
          "base_uri": "https://localhost:8080/",
          "height": 752
        },
        "id": "gMCzLVnZmLJ4",
        "outputId": "9fbcbb86-8b56-466a-acdd-97981779580d"
      },
      "execution_count": 142,
      "outputs": [
        {
          "output_type": "display_data",
          "data": {
            "text/plain": [
              "<Figure size 900x900 with 9 Axes>"
            ],
            "image/png": "[encoded data removed]"
          },
          "metadata": {}
        }
      ]
    },
    {
      "cell_type": "code",
      "source": [
        "# Setup batch size\n",
        "BATCH_SIZE = 32\n",
        "\n",
        "# Turn data into batches\n",
        "train_dataloader = DataLoader(dataset=train_data,\n",
        "                              batch_size=BATCH_SIZE,\n",
        "                              shuffle=True)\n",
        "test_dataloader = DataLoader(dataset=test_data,\n",
        "                              batch_size=BATCH_SIZE,\n",
        "                              shuffle=False)\n",
        "\n",
        "print(f\"Length of train_dataloader: {len(train_dataloader)} batches of {BATCH_SIZE}\")\n",
        "print(f\"Length of test_dataloader: {len(test_dataloader)} batches of {BATCH_SIZE}\")"
      ],
      "metadata": {
        "colab": {
          "base_uri": "https://localhost:8080/"
        },
        "id": "DkSFuVDjmqO0",
        "outputId": "6c379e7e-f707-426c-eb36-de51b8b8b270"
      },
      "execution_count": 143,
      "outputs": [
        {
          "output_type": "stream",
          "name": "stdout",
          "text": [
            "Length of train_dataloader: 1875 batches of 32\n",
            "Length of test_dataloader: 313 batches of 32\n"
          ]
        }
      ]
    },
    {
      "cell_type": "markdown",
      "source": [
        "## Defining model"
      ],
      "metadata": {
        "id": "GustodvqPZF8"
      }
    },
    {
      "cell_type": "code",
      "source": [
        "# Create a convolutional neural network (CNN)\n",
        "class FashionMNISTModel(nn.Module):\n",
        "  \"\"\"\n",
        "  Replicates Tiny VGG architecture\n",
        "  \"\"\"\n",
        "\n",
        "  def __init__(self, input_shape: int, hidden_units: int, output_shape: int):\n",
        "    super().__init__()\n",
        "    self.conv_block_1 = nn.Sequential(\n",
        "        nn.Conv2d(in_channels=input_shape,\n",
        "                  out_channels=hidden_units,\n",
        "                  kernel_size=3,\n",
        "                  stride=1,\n",
        "                  padding=1),\n",
        "        nn.ReLU(),\n",
        "        nn.Conv2d(in_channels=hidden_units,\n",
        "                  out_channels=hidden_units,\n",
        "                  kernel_size=3,\n",
        "                  stride=1,\n",
        "                  padding=1),\n",
        "        nn.ReLU(),\n",
        "        nn.MaxPool2d(kernel_size=2)\n",
        "    )\n",
        "\n",
        "    self.conv_block_2 = nn.Sequential(\n",
        "        nn.Conv2d(in_channels=hidden_units,\n",
        "                  out_channels=hidden_units,\n",
        "                  kernel_size=3,\n",
        "                  stride=1,\n",
        "                  padding=1),\n",
        "        nn.ReLU(),\n",
        "        nn.Conv2d(in_channels=hidden_units,\n",
        "                  out_channels=hidden_units,\n",
        "                  kernel_size=3,\n",
        "                  stride=1,\n",
        "                  padding=1),\n",
        "        nn.ReLU(),\n",
        "        nn.MaxPool2d(kernel_size=2)\n",
        "    )\n",
        "\n",
        "    self.classifier = nn.Sequential(\n",
        "        nn.Flatten(),\n",
        "        nn.Linear(in_features=hidden_units*7*7,\n",
        "                  out_features=output_shape)\n",
        "    )\n",
        "\n",
        "\n",
        "  def forward(self, x: torch.Tensor):\n",
        "    #print(f\"Input shape: {x.shape}\")\n",
        "    x = self.conv_block_1(x)\n",
        "    #print(f\"Block 1 output shape: {x.shape}\")\n",
        "    x = self.conv_block_2(x)\n",
        "    #print(f\"Block 1 output shape: {x.shape}\")\n",
        "    x = self.classifier(x)\n",
        "    #print(f\"Output shape: {x.shape}\")\n",
        "    return x\n",
        "\n",
        "# Initialize and instance of model\n",
        "main_model = FashionMNISTModel(input_shape=1, # input is a 28x28 image\n",
        "                               hidden_units=10, # 10 hidden units per layer\n",
        "                               output_shape=len(class_names)) # output for each of the labels in FashionMNIST\n"
      ],
      "metadata": {
        "id": "vudnfjdNnfxf"
      },
      "execution_count": 144,
      "outputs": []
    },
    {
      "cell_type": "markdown",
      "source": [
        "### Defining loss function, optimizer and evaluation functions"
      ],
      "metadata": {
        "id": "9sjXUgJ3Rt_N"
      }
    },
    {
      "cell_type": "code",
      "source": [
        "# Setup loss function and optimizer\n",
        "loss_fn = nn.CrossEntropyLoss()\n",
        "optimizer = torch.optim.SGD(params=main_model.parameters(),\n",
        "                            lr=0.1)"
      ],
      "metadata": {
        "id": "QPkzsTH0pMdi"
      },
      "execution_count": 145,
      "outputs": []
    },
    {
      "cell_type": "code",
      "source": [
        "def calc_train_time(start: float, end: float):\n",
        "  \"\"\"Calculates total train time of model\n",
        "\n",
        "  Args:\n",
        "    start (float): Start time of training/evaluation loop\n",
        "    end (float):  End time of training/evaluation loop\n",
        "\n",
        "  Returns:\n",
        "    [float]: Total time of training/evaluation loop\n",
        "  \"\"\"\n",
        "  total_time = end - start\n",
        "  return total_time"
      ],
      "metadata": {
        "id": "hb8hkBi7p9Jj"
      },
      "execution_count": 146,
      "outputs": []
    },
    {
      "cell_type": "code",
      "source": [
        "def calc_accuracy(data_pred: torch.Tensor, data_true: torch.Tensor):\n",
        "  \"\"\"Calculates accuracy for model training and testing\n",
        "  Args:\n",
        "    data_pred (torch.Tensor): Predictions made by the model\n",
        "    data_true (torch.Tensor): The true data labels that are to be compared to the predictions of the model\n",
        "\n",
        "  Returns:\n",
        "    [torch.float]: Accuracy value of predictions compared to the true labels in percentage form\n",
        "  \"\"\"\n",
        "  acc = ( (torch.eq(data_true, data_pred).sum().item()) / len(data_pred)) * 100\n",
        "  return acc"
      ],
      "metadata": {
        "id": "YYUqqft5qfyZ"
      },
      "execution_count": 147,
      "outputs": []
    },
    {
      "cell_type": "markdown",
      "source": [
        "##Training model"
      ],
      "metadata": {
        "id": "A5PvQK2TPHwD"
      }
    },
    {
      "cell_type": "code",
      "source": [
        "# Training and testing loop\n",
        "torch.manual_seed(100)\n",
        "torch.cuda.manual_seed(100)\n",
        "\n",
        "train_time_start = timer() # start timer\n",
        "\n",
        "epochs = 5\n",
        "\n",
        "for epoch in tqdm(range(epochs)):\n",
        "\n",
        "  print(f\"Epoch: {epoch+1} =================================\")\n",
        "\n",
        "### Testing\n",
        "  main_model.train()\n",
        "  train_loss = 0\n",
        "  train_acc = 0\n",
        "  for batch, (X, y) in enumerate(train_dataloader):\n",
        "\n",
        "    # Put data on target device\n",
        "    X, y = X.to(device), y.to(device)\n",
        "\n",
        "    # Forward Pass\n",
        "    y_logits = main_model(X)\n",
        "\n",
        "    # Calculate and accumulate loss/acc\n",
        "    loss = loss_fn(y_logits, y)\n",
        "    train_loss += loss\n",
        "    train_acc += calc_accuracy(data_pred=y_logits.argmax(dim=1), # converts raw logits to prediction labels\n",
        "                               data_true=y)\n",
        "\n",
        "    # Reset gradients\n",
        "    optimizer.zero_grad()\n",
        "\n",
        "    # Backpropagation\n",
        "    loss.backward()\n",
        "\n",
        "    # Stochastic gradient descent (SGD)\n",
        "    optimizer.step()\n",
        "\n",
        "  # Find average train loss and acc over entire dataset\n",
        "  train_loss /= len(train_dataloader)\n",
        "  train_acc /= len(train_dataloader)\n",
        "  print(f\"Train loss: {train_loss:.5f} | Train acc: {train_acc:.2f}%\")\n",
        "\n",
        "### Testing\n",
        "  main_model.eval()\n",
        "  with torch.inference_mode():\n",
        "    test_loss = 0\n",
        "    test_acc = 0\n",
        "    for batch, (X, y) in enumerate(test_dataloader):\n",
        "\n",
        "      # Put data on target device\n",
        "      X, y = X.to(device), y.to(device)\n",
        "\n",
        "      # Forward Pass\n",
        "      test_logits = main_model(X)\n",
        "\n",
        "      # Calculate and accumulate loss/acc\n",
        "      loss = loss_fn(test_logits, y)\n",
        "      test_loss += loss\n",
        "      test_acc += calc_accuracy(data_pred=test_logits.argmax(dim=1), # converts raw logits to prediction labels\n",
        "                               data_true=y)\n",
        "\n",
        "    #  Find average test loss and acc over entire dataset\n",
        "    test_loss /= len(test_dataloader)\n",
        "    test_acc /= len(test_dataloader)\n",
        "    print(f\"Test loss: {test_loss:.5f} | Test acc: {test_acc:.2f}%\\n\")\n",
        "\n",
        "\n",
        "\n",
        "train_time_end = timer() # stop timer\n",
        "\n"
      ],
      "metadata": {
        "colab": {
          "base_uri": "https://localhost:8080/",
          "height": 396,
          "referenced_widgets": [
            "09b66661449c4ff79e8c6a0d5a5397ce",
            "2d5aa31a8be44c0f80a69d5e4c30f63d",
            "14b5a2322d74483d9a8e84495579b091",
            "aca2e11ca8014cc39145d53c3a5b9d86",
            "50bd15ce435645f996fefdfddd015098",
            "46a2c5504c224c0aaaccac4062f7f641",
            "0c6faab03d3d44939ab40ef5e8f90fc7",
            "9a0227e0718a4d5eae11250698b89d75",
            "f55c78c7c1c84242923993a0455629ee",
            "2d84ccf49cb34a55b0a6bce79db1b047",
            "eb9e1ca5c5c14cf3b0e4adcce4adaa2f"
          ]
        },
        "id": "OD3cWAk7oG37",
        "outputId": "89941c9d-4098-4863-add2-7818488c46e7"
      },
      "execution_count": 148,
      "outputs": [
        {
          "output_type": "display_data",
          "data": {
            "text/plain": [
              "  0%|          | 0/5 [00:00<?, ?it/s]"
            ],
            "application/vnd.jupyter.widget-view+json": {
              "version_major": 2,
              "version_minor": 0,
              "model_id": "09b66661449c4ff79e8c6a0d5a5397ce"
            }
          },
          "metadata": {}
        },
        {
          "output_type": "stream",
          "name": "stdout",
          "text": [
            "Epoch: 1 =================================\n",
            "Train loss: 0.56443 | Train acc: 79.58%\n",
            "Test loss: 0.39593 | Test acc: 85.50%\n",
            "\n",
            "Epoch: 2 =================================\n",
            "Train loss: 0.34558 | Train acc: 87.45%\n",
            "Test loss: 0.33929 | Test acc: 87.73%\n",
            "\n",
            "Epoch: 3 =================================\n",
            "Train loss: 0.30466 | Train acc: 89.00%\n",
            "Test loss: 0.31465 | Test acc: 88.99%\n",
            "\n",
            "Epoch: 4 =================================\n",
            "Train loss: 0.28512 | Train acc: 89.65%\n",
            "Test loss: 0.29341 | Test acc: 89.61%\n",
            "\n",
            "Epoch: 5 =================================\n",
            "Train loss: 0.27029 | Train acc: 90.17%\n",
            "Test loss: 0.29387 | Test acc: 89.66%\n",
            "\n"
          ]
        }
      ]
    },
    {
      "cell_type": "code",
      "source": [
        "total_train_time = calc_train_time(start=train_time_start, end=train_time_end)\n",
        "if total_train_time >= 60:\n",
        "  total_train_time /= 60\n",
        "  print(f\"Training model took: {total_train_time:.2f} minutes\")\n",
        "else:\n",
        "  print(f\"Training model took: {total_train_time:.2f} seconds\")"
      ],
      "metadata": {
        "colab": {
          "base_uri": "https://localhost:8080/"
        },
        "id": "uPf9yK70KarE",
        "outputId": "dbfe31d5-f8ff-4c05-f413-d4b437b0abba"
      },
      "execution_count": 149,
      "outputs": [
        {
          "output_type": "stream",
          "name": "stdout",
          "text": [
            "Training model took: 4.72 minutes\n"
          ]
        }
      ]
    },
    {
      "cell_type": "markdown",
      "source": [
        "##Testing model"
      ],
      "metadata": {
        "id": "3YFPVxfoPDuo"
      }
    },
    {
      "cell_type": "code",
      "source": [
        "# Make test samples\n",
        "test_samples = []\n",
        "test_labels = []\n",
        "for sample, label in random.sample(list(test_data), k=16):\n",
        "  test_samples.append(sample)\n",
        "  test_labels.append(label)\n",
        "\n",
        "\n",
        "# Make predictions\n",
        "pred_probs = []\n",
        "main_model.to(device)\n",
        "main_model.eval()\n",
        "with torch.inference_mode():\n",
        "  for sample in test_samples:\n",
        "\n",
        "    sample = torch.unsqueeze(sample, dim=0).to(device)\n",
        "\n",
        "    pred_logit = main_model(sample)\n",
        "    pred_prob = torch.softmax(pred_logit.squeeze(), dim=0)\n",
        "    pred_probs.append(pred_prob.cpu())\n",
        "\n",
        "pred_probs = torch.stack(pred_probs)\n",
        "\n",
        "# Convert prediction probabilites to labels\n",
        "pred_classes = pred_probs.argmax(dim=1)\n",
        "pred_classes\n",
        "\n",
        "# Plot random predictions (re-run this cell for different images and predictions)\n",
        "plt.figure(figsize=(12,12))\n",
        "\n",
        "for i, sample in enumerate(test_samples):\n",
        "\n",
        "  # 4x4 matrix of images\n",
        "  plt.subplot(4, 4, i+1)\n",
        "\n",
        "  # Plot the target image\n",
        "  plt.imshow(sample.squeeze(), cmap=\"gray\")\n",
        "\n",
        "  # Find the prediction label in text form\n",
        "  pred_label = class_names[pred_classes[i]]\n",
        "\n",
        "  # Get the truth label in test form\n",
        "  truth_label = class_names[test_labels[i]]\n",
        "\n",
        "  # Create a title for the plot\n",
        "  title_text = f\"Pred: {pred_label} | Truth: {truth_label}\"\n",
        "\n",
        "  # green if correct and red if incorrect\n",
        "  if pred_label == truth_label:\n",
        "    plt.title(title_text, fontsize=10, c=\"g\")\n",
        "  else:\n",
        "    plt.title(title_text, fontsize=10, c=\"r\")\n",
        "\n",
        "  plt.axis(False)"
      ],
      "metadata": {
        "colab": {
          "base_uri": "https://localhost:8080/",
          "height": 980
        },
        "id": "MFJq23g0Phpj",
        "outputId": "fd8da090-da99-44d7-fd3d-57c55804acc9"
      },
      "execution_count": 154,
      "outputs": [
        {
          "output_type": "display_data",
          "data": {
            "text/plain": [
              "<Figure size 1200x1200 with 16 Axes>"
            ],
            "image/png": "[encoded data removed]"
          },
          "metadata": {}
        }
      ]
    },
    {
      "cell_type": "markdown",
      "source": [
        "### Using a confusion matrix"
      ],
      "metadata": {
        "id": "Xk9jelnTRmrE"
      }
    },
    {
      "cell_type": "code",
      "source": [
        "# Make predictions\n",
        "y_preds = []\n",
        "main_model.eval()\n",
        "with torch.inference_mode():\n",
        "  for (X, y) in tqdm(test_dataloader):\n",
        "    X, y = X.to(device), y.to(device)\n",
        "    y_logits = main_model(X)\n",
        "    y_pred = torch.softmax(y_logits.squeeze(), dim=0).argmax(dim=1) # logits -> labels\n",
        "    y_preds.append(y_pred.cpu()) # put label on cpu before appending\n",
        "y_pred_tensor = torch.cat(y_preds)# Concatenate list of preds into a tensor"
      ],
      "metadata": {
        "colab": {
          "base_uri": "https://localhost:8080/",
          "height": 49,
          "referenced_widgets": [
            "7f4647a4702e41ad8bf695584e551e97",
            "9fdba2dc5733420faf5208eab30e15df",
            "ad45685d57e1445f807ec35c270f1a84",
            "3ffdee8395dd4e129505970a5c690de0",
            "e5943e550a884d13a3c780d65a110ace",
            "b709b114bbb84de0973f2245177303ec",
            "e2bea580530442edbacba7fad5d1ceb8",
            "bc4904612ddb494dabcb073c057522a3",
            "f5e7dde77aef450daff5e58319be0fdb",
            "fd9d94ffe2aa44679bf1d0a9e460ff74",
            "228ee2425c62410c9949d21c19451812"
          ]
        },
        "id": "bT_CRnjQRYU9",
        "outputId": "bc3a1d1c-feef-49da-fc27-648ab4cdc273"
      },
      "execution_count": 151,
      "outputs": [
        {
          "output_type": "display_data",
          "data": {
            "text/plain": [
              "  0%|          | 0/313 [00:00<?, ?it/s]"
            ],
            "application/vnd.jupyter.widget-view+json": {
              "version_major": 2,
              "version_minor": 0,
              "model_id": "7f4647a4702e41ad8bf695584e551e97"
            }
          },
          "metadata": {}
        }
      ]
    },
    {
      "cell_type": "code",
      "source": [
        "confmat = ConfusionMatrix(num_classes=len(class_names), task=\"multiclass\")\n",
        "confmat_tensor = confmat(preds=y_pred_tensor, target=test_data.targets)\n",
        "\n",
        "# Plot  confusion matrix\n",
        "fig, ax = plot_confusion_matrix(conf_mat=confmat_tensor.numpy(), # matplotlib uses numpy arrays\n",
        "                                class_names=class_names,\n",
        "                                figsize=(10,7),\n",
        "                                colorbar=True)"
      ],
      "metadata": {
        "colab": {
          "base_uri": "https://localhost:8080/",
          "height": 667
        },
        "id": "6xs2pL0fR-zH",
        "outputId": "fd510992-318c-45c3-9d84-495a8e29c133"
      },
      "execution_count": 152,
      "outputs": [
        {
          "output_type": "display_data",
          "data": {
            "text/plain": [
              "<Figure size 1000x700 with 2 Axes>"
            ],
            "image/png": "[encoded data removed]"
          },
          "metadata": {}
        }
      ]
    },
    {
      "cell_type": "markdown",
      "source": [
        "## Saving model"
      ],
      "metadata": {
        "id": "FxBMkZtLSIws"
      }
    },
    {
      "cell_type": "code",
      "source": [
        "# Create directory path\n",
        "DOWNLOAD_PATH = Path(\"models\")\n",
        "DOWNLOAD_PATH.mkdir(parents=True, exist_ok=True)\n",
        "\n",
        "# Create model save\n",
        "MODEL_NAME = \"main_model.pth\"\n",
        "MODEL_DOWNLOAD_PATH = DOWNLOAD_PATH / MODEL_NAME\n",
        "\n",
        "# Save model state dict\n",
        "print(f\"Saving model to: {MODEL_DOWNLOAD_PATH}\")\n",
        "torch.save(obj=main_model.state_dict(), f=MODEL_DOWNLOAD_PATH)"
      ],
      "metadata": {
        "colab": {
          "base_uri": "https://localhost:8080/"
        },
        "id": "GnNa6C9eSKRf",
        "outputId": "f1d77658-e96e-4988-dcec-184421d8d127"
      },
      "execution_count": 153,
      "outputs": [
        {
          "output_type": "stream",
          "name": "stdout",
          "text": [
            "Saving model to: models/main_model.pth\n"
          ]
        }
      ]
    }
  ]
}
